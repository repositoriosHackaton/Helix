{
 "cells": [
  {
   "cell_type": "code",
   "execution_count": 3,
   "id": "b79706fd",
   "metadata": {},
   "outputs": [
    {
     "name": "stdout",
     "output_type": "stream",
     "text": [
      "Archivos guardados:\n",
      "train-small.csv\n",
      "valid-small.csv\n",
      "test.csv\n"
     ]
    }
   ],
   "source": [
    "import pandas as pd\n",
    "import os\n",
    "from sklearn.model_selection import train_test_split\n",
    "\n",
    "# Leer el dataset original\n",
    "dataset_path = 'raw_data\\Data_Entry_2017_v2020.csv'  # Ruta del dataset original\n",
    "# base_dir = 'Imagenes_medicas'  # Ruta base para las imágenes\n",
    "\n",
    "# Usar las columnas necesarias (Image Index y Finding Labels)\n",
    "usecols = ['Image Index', 'Finding Labels']\n",
    "df = pd.read_csv(dataset_path, delimiter=',', usecols=usecols)\n",
    "\n",
    "# Listado de todas las posibles enfermedades\n",
    "all_labels = [\n",
    "    'Cardiomegaly', 'Emphysema', 'Effusion', 'Hernia', 'Infiltration',\n",
    "    'Mass', 'Nodule', 'Atelectasis', 'Pneumothorax', 'Pleural_Thickening',\n",
    "    'Pneumonia', 'Fibrosis', 'Edema', 'Consolidation', 'No Finding'\n",
    "]\n",
    "\n",
    "# Crear nuevas columnas en el dataframe para cada etiqueta de enfermedad\n",
    "for label in all_labels:\n",
    "    df[label] = 0\n",
    "\n",
    "# Rellenar las columnas con 1 si la enfermedad está presente\n",
    "for index, row in df.iterrows():\n",
    "    labels = row['Finding Labels'].split('|')\n",
    "    for label in labels:\n",
    "        df.at[index, label] = 1\n",
    "\n",
    "# Eliminar la columna 'No Finding' ya que no es una enfermedad\n",
    "df = df.drop(columns=['No Finding'])\n",
    "\n",
    "# Obtener el PatientId a partir del nombre de la imagen\n",
    "df['PatientId'] = df['Image Index'].apply(lambda x: int(x.split('_')[0]))\n",
    "\n",
    "# Ordenar las columnas en el formato deseado\n",
    "columns_order = ['Image Index', 'PatientId'] + [label for label in all_labels if label != 'No Finding']\n",
    "df = df[columns_order]\n",
    "\n",
    "# Renombrar la columna 'Image Index' a 'Image'\n",
    "df = df.rename(columns={'Image Index': 'Image'})\n",
    "\n",
    "# Dividir el dataset en train, valid y test\n",
    "train_df, test_df = train_test_split(df, test_size=0.2, random_state=42)\n",
    "train_df, valid_df = train_test_split(train_df, test_size=0.25, random_state=42)  # 0.25 * 0.8 = 0.2\n",
    "\n",
    "if not os.path.isdir('divided_data'):\n",
    "    os.mkdir('divided_data')\n",
    "\n",
    "# Guardar los dataframes en nuevos archivos CSV\n",
    "train_df.to_csv('divided_data/train-small.csv', index=False)\n",
    "valid_df.to_csv('divided_data/valid-small.csv', index=False)\n",
    "test_df.to_csv('divided_data/test.csv', index=False)\n",
    "\n",
    "print(\"Archivos guardados:\")\n",
    "print(\"train-small.csv\")\n",
    "print(\"valid-small.csv\")\n",
    "print(\"test.csv\")"
   ]
  },
  {
   "cell_type": "code",
   "execution_count": null,
   "id": "8fe9f56d",
   "metadata": {},
   "outputs": [],
   "source": []
  }
 ],
 "metadata": {
  "kernelspec": {
   "display_name": "Python 3 (ipykernel)",
   "language": "python",
   "name": "python3"
  },
  "language_info": {
   "codemirror_mode": {
    "name": "ipython",
    "version": 3
   },
   "file_extension": ".py",
   "mimetype": "text/x-python",
   "name": "python",
   "nbconvert_exporter": "python",
   "pygments_lexer": "ipython3",
   "version": "3.11.5"
  }
 },
 "nbformat": 4,
 "nbformat_minor": 5
}
