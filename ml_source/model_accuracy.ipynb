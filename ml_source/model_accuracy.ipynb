{
 "cells": [
  {
   "cell_type": "code",
   "execution_count": null,
   "id": "4f6d08b9",
   "metadata": {},
   "outputs": [],
   "source": [
    "import pandas as pd\n",
    "import numpy as np\n",
    "import cv2\n",
    "import os\n",
    "from tensorflow.keras.models import load_model\n",
    "from sklearn.metrics import classification_report, accuracy_score, precision_score, recall_score, f1_score\n",
    "\n",
    "# Cargar el modelo\n",
    "model = load_model('chest_xray_model.h5')\n",
    "\n",
    "# Leer el conjunto de prueba\n",
    "test_df = pd.read_csv('divided_data/test.csv')\n",
    "\n",
    "# Definir las etiquetas de enfermedades\n",
    "disease_labels = test_df.columns[2:]  # Saltar 'Image' y 'PatientId'\n",
    "\n",
    "# Crear una función para cargar y preprocesar las imágenes\n",
    "def load_image(img_path, target_size=(224, 224)):\n",
    "    img = cv2.imread(img_path, cv2.IMREAD_GRAYSCALE)\n",
    "    img = cv2.resize(img, target_size)\n",
    "    img = img / 255.0\n",
    "    img = np.expand_dims(img, axis=-1)\n",
    "    return img\n",
    "\n",
    "# Realizar las predicciones para el conjunto de prueba\n",
    "y_true = []\n",
    "y_pred = []\n",
    "\n",
    "for _, row in test_df.iterrows():\n",
    "    img_path = os.path.join('path_to_images_dir', 'images', row['Image'])\n",
    "    img = load_image(img_path)\n",
    "    img = np.expand_dims(img, axis=0)  # Agregar dimensión batch\n",
    "    prediction = model.predict(img)[0]\n",
    "\n",
    "    y_true.append(row[disease_labels].values.astype('float32'))\n",
    "    y_pred.append(prediction)\n",
    "\n",
    "y_true = np.array(y_true)\n",
    "y_pred = np.array(y_pred)\n"
   ]
  },
  {
   "cell_type": "code",
   "execution_count": null,
   "id": "4bbced11",
   "metadata": {},
   "outputs": [],
   "source": [
    "# Calcular las métricas de evaluación\n",
    "accuracy = accuracy_score(y_true.round(), y_pred.round())\n",
    "precision = precision_score(y_true.round(), y_pred.round(), average='macro')\n",
    "recall = recall_score(y_true.round(), y_pred.round(), average='macro')\n",
    "f1 = f1_score(y_true.round(), y_pred.round(), average='macro')\n",
    "\n",
    "print(f'Accuracy: {accuracy:.4f}')\n",
    "print(f'Precision: {precision:.4f}')\n",
    "print(f'Recall: {recall:.4f}')\n",
    "print(f'F1 Score: {f1:.4f}')\n",
    "\n",
    "# Generar un informe de clasificación detallado\n",
    "report = classification_report(y_true.round(), y_pred.round(), target_names=disease_labels)\n",
    "print(report)\n"
   ]
  }
 ],
 "metadata": {
  "kernelspec": {
   "display_name": "chestxray",
   "language": "python",
   "name": "chestxray"
  },
  "language_info": {
   "codemirror_mode": {
    "name": "ipython",
    "version": 3
   },
   "file_extension": ".py",
   "mimetype": "text/x-python",
   "name": "python",
   "nbconvert_exporter": "python",
   "pygments_lexer": "ipython3",
   "version": "3.10.14"
  }
 },
 "nbformat": 4,
 "nbformat_minor": 5
}
